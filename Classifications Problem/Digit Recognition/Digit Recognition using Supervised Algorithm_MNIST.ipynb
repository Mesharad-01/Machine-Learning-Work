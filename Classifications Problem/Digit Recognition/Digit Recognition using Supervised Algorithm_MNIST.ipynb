{
 "cells": [
  {
   "cell_type": "code",
   "execution_count": 54,
   "metadata": {},
   "outputs": [],
   "source": [
    "import numpy as np\n",
    "import pandas as pd\n",
    "import matplotlib.pyplot as plt\n",
    "import seaborn as sns\n",
    "from sklearn.model_selection import train_test_split\n",
    "from sklearn import metrics \n",
    "%matplotlib inline"
   ]
  },
  {
   "cell_type": "code",
   "execution_count": 55,
   "metadata": {},
   "outputs": [],
   "source": [
    "#loading dataset\n",
    "mnist_train=pd.read_csv('mnist_train.csv').sample(frac=1).reset_index(drop=True)\n",
    "mnist_test= pd.read_csv('mnist_test.csv').sample(frac=1).reset_index(drop=True)\n"
   ]
  },
  {
   "cell_type": "code",
   "execution_count": 56,
   "metadata": {},
   "outputs": [
    {
     "name": "stdout",
     "output_type": "stream",
     "text": [
      "(60000, 785)\n",
      "(10000, 785)\n",
      "Index(['label', '1x1', '1x2', '1x3', '1x4', '1x5', '1x6', '1x7', '1x8', '1x9',\n",
      "       ...\n",
      "       '28x19', '28x20', '28x21', '28x22', '28x23', '28x24', '28x25', '28x26',\n",
      "       '28x27', '28x28'],\n",
      "      dtype='object', length=785)\n"
     ]
    }
   ],
   "source": [
    "#print(digits)  //28*28\n",
    "print(mnist_train.shape)\n",
    "print(mnist_test.shape)\n",
    "\n",
    "print(mnist_test.columns)"
   ]
  },
  {
   "cell_type": "code",
   "execution_count": 155,
   "metadata": {},
   "outputs": [
    {
     "name": "stdout",
     "output_type": "stream",
     "text": [
      "(10000, 784) (60000, 784)\n",
      "(10000,) (60000,)\n",
      "   1x1  1x2  1x3  1x4  1x5  1x6  1x7  1x8  1x9  1x10  ...  28x19  28x20  \\\n",
      "0    0    0    0    0    0    0    0    0    0     0  ...      0      0   \n",
      "1    0    0    0    0    0    0    0    0    0     0  ...      0      0   \n",
      "2    0    0    0    0    0    0    0    0    0     0  ...      0      0   \n",
      "3    0    0    0    0    0    0    0    0    0     0  ...      0      0   \n",
      "4    0    0    0    0    0    0    0    0    0     0  ...      0      0   \n",
      "\n",
      "   28x21  28x22  28x23  28x24  28x25  28x26  28x27  28x28  \n",
      "0      0      0      0      0      0      0      0      0  \n",
      "1      0      0      0      0      0      0      0      0  \n",
      "2      0      0      0      0      0      0      0      0  \n",
      "3      0      0      0      0      0      0      0      0  \n",
      "4      0      0      0      0      0      0      0      0  \n",
      "\n",
      "[5 rows x 784 columns]\n"
     ]
    }
   ],
   "source": [
    "#spliting data\n",
    "x_train= mnist_test.drop(['label'],axis=1)\n",
    "y_train =mnist_test['label']\n",
    "x_test= mnist_train.drop(['label'],axis=1)\n",
    "y_test=mnist_train['label']\n",
    "#x_train,x_test,y_train,y_test= train_test_split(digits.data,digits.target,test_size=0.3,random_state=42)\n",
    "\n",
    "print(x_train.shape,x_test.shape)\n",
    "print(y_train.shape,y_test.shape)\n",
    "print(x_train[:5])"
   ]
  },
  {
   "cell_type": "code",
   "execution_count": 93,
   "metadata": {},
   "outputs": [
    {
     "data": {
      "text/plain": [
       "LogisticRegression(max_iter=10000)"
      ]
     },
     "execution_count": 93,
     "metadata": {},
     "output_type": "execute_result"
    }
   ],
   "source": [
    "#train the model\n",
    "from sklearn.linear_model import LogisticRegression\n",
    "\n",
    "lg= LogisticRegression(solver='lbfgs', max_iter=10000)\n",
    "lg.fit(x_train,y_train)"
   ]
  },
  {
   "cell_type": "code",
   "execution_count": 95,
   "metadata": {},
   "outputs": [
    {
     "name": "stdout",
     "output_type": "stream",
     "text": [
      "0    0\n",
      "1    1\n",
      "2    3\n",
      "3    8\n",
      "4    7\n",
      "5    9\n",
      "6    8\n",
      "7    0\n",
      "8    7\n",
      "9    7\n",
      "Name: label, dtype: int64\n",
      "[0 1 3 8 9 9 8 0 7 7]\n"
     ]
    }
   ],
   "source": [
    "#predict\n",
    "\n",
    "print(y_test[0:10])\n",
    "print(lg.predict(x_test[0:10]))"
   ]
  },
  {
   "cell_type": "code",
   "execution_count": 104,
   "metadata": {},
   "outputs": [
    {
     "name": "stdout",
     "output_type": "stream",
     "text": [
      "2.2471428571428573\n",
      "0.8857142857142857\n"
     ]
    }
   ],
   "source": [
    "#check accuracy\n",
    "pred= lg.predict(x_test)\n",
    "print(metrics.mean_squared_error(y_test,pred))\n",
    "print(metrics.accuracy_score(y_test,pred))"
   ]
  },
  {
   "cell_type": "code",
   "execution_count": 105,
   "metadata": {},
   "outputs": [
    {
     "name": "stdout",
     "output_type": "stream",
     "text": [
      "[[58  0  1  0  2  1  1  1  1  0]\n",
      " [ 0 75  0  0  0  2  0  0  0  0]\n",
      " [ 0  0 61  1  0  0  1  3  0  0]\n",
      " [ 0  0  3 72  0  1  0  2  3  0]\n",
      " [ 0  0  0  0 54  0  1  0  0  4]\n",
      " [ 1  1  0  3  0 48  2  0  2  0]\n",
      " [ 1  0  1  0  1  3 57  0  0  0]\n",
      " [ 0  1  0  1  0  0  0 74  0  3]\n",
      " [ 0  4  6  1  0  4  1  0 62  1]\n",
      " [ 0  0  0  4  7  1  0  3  0 59]]\n"
     ]
    }
   ],
   "source": [
    "cm=metrics.confusion_matrix(y_test,pred)\n",
    "print(cm)"
   ]
  },
  {
   "cell_type": "code",
   "execution_count": 156,
   "metadata": {},
   "outputs": [
    {
     "data": {
      "text/plain": [
       "SVC(C=1000)"
      ]
     },
     "execution_count": 156,
     "metadata": {},
     "output_type": "execute_result"
    }
   ],
   "source": [
    "# Now with SVM Method :\n",
    "from sklearn import svm\n",
    "import joblib\n",
    "\n",
    "#svm_model= svm.SVC(kernel='rbf',C=10)\n",
    "svm_model= svm.SVC(kernel='rbf',C=1000)\n",
    "svm_model.fit(x_train,y_train)\n"
   ]
  },
  {
   "cell_type": "code",
   "execution_count": 162,
   "metadata": {},
   "outputs": [
    {
     "name": "stdout",
     "output_type": "stream",
     "text": [
      "0     0\n",
      "1     1\n",
      "2     3\n",
      "3     8\n",
      "4     7\n",
      "5     9\n",
      "6     8\n",
      "7     0\n",
      "8     7\n",
      "9     7\n",
      "10    5\n",
      "Name: label, dtype: int64\n",
      "[0 1 3 8 7 9 8 0 7 7 5]\n"
     ]
    }
   ],
   "source": [
    "joblib.dump(svm_model,\"SVM_MNIST_RBF\")\n",
    "print(y_test[0:11])\n",
    "print(svm_model.predict(x_test[0:11]))"
   ]
  },
  {
   "cell_type": "code",
   "execution_count": 158,
   "metadata": {},
   "outputs": [
    {
     "name": "stdout",
     "output_type": "stream",
     "text": [
      "0.6716666666666666\n",
      "0.9619\n"
     ]
    }
   ],
   "source": [
    "svm_pred= svm_model.predict(x_test)\n",
    "print(metrics.mean_squared_error(y_test,svm_pred))\n",
    "print(metrics.accuracy_score(y_test,svm_pred))"
   ]
  },
  {
   "cell_type": "code",
   "execution_count": 159,
   "metadata": {},
   "outputs": [
    {
     "name": "stdout",
     "output_type": "stream",
     "text": [
      "[[5806    3   22    2    7   19   27    2   29    6]\n",
      " [   2 6628   38   10   18    8    3   14    7   14]\n",
      " [  19   18 5730   33   42    7   25   47   32    5]\n",
      " [   7   26  101 5753    2  105    6   33   70   28]\n",
      " [  11   10   29    1 5670    0   29   14    5   73]\n",
      " [  19   23   13   66   17 5187   53    2   24   17]\n",
      " [  21   14   11    0   16   50 5790    0   16    0]\n",
      " [  21   23   36    6   46    7    3 6045   10   68]\n",
      " [  13   65   54   47   22   56   25   13 5516   40]\n",
      " [  29    9   21   55   97   22    2   95   30 5589]]\n"
     ]
    }
   ],
   "source": [
    "cm=metrics.confusion_matrix(y_test,svm_pred)\n",
    "print(cm)"
   ]
  },
  {
   "cell_type": "code",
   "execution_count": 134,
   "metadata": {},
   "outputs": [],
   "source": [
    "#Now Apply Knn for the same algorithm \n",
    "from sklearn.neighbors import KNeighborsClassifier"
   ]
  },
  {
   "cell_type": "code",
   "execution_count": 85,
   "metadata": {},
   "outputs": [
    {
     "data": {
      "text/plain": [
       "[<matplotlib.lines.Line2D at 0x7fd7b6195730>]"
      ]
     },
     "execution_count": 85,
     "metadata": {},
     "output_type": "execute_result"
    },
    {
     "data": {
      "image/png": "[encoded data removed]",
      "text/plain": [
       "<Figure size 432x288 with 1 Axes>"
      ]
     },
     "metadata": {
      "needs_background": "light"
     },
     "output_type": "display_data"
    }
   ],
   "source": [
    "#class sklearn.neighbors.KNeighborsClassifier(n_neighbors=5, *,\n",
    "#weights='uniform', algorithm='auto', leaf_size=30, p=2, metric='minkowski', \n",
    "#metric_params=None,n_jobs=None)\n",
    "\n",
    "#listacc=[]\n",
    "#for i in range(1,211):\n",
    "#    knn_model= KNeighborsClassifier(n_neighbors=int(i),p=2,metric='euclidean')\n",
    "#    knn_model.fit(x_train,y_train)\n",
    "#    knn_pred= knn_model.predict(x_test)\n",
    "#   # print(i , metrics.mean_squared_error(y_test,knn_pred))\n",
    "#    listacc.append(metrics.mean_squared_error(y_test,knn_pred))\n",
    "#listi=list(range(1,211))\n",
    "#plt.plot(listi,listacc)"
   ]
  },
  {
   "cell_type": "code",
   "execution_count": 86,
   "metadata": {},
   "outputs": [
    {
     "name": "stdout",
     "output_type": "stream",
     "text": [
      "0     0\n",
      "1     1\n",
      "2     3\n",
      "3     8\n",
      "4     7\n",
      "5     9\n",
      "6     8\n",
      "7     0\n",
      "8     7\n",
      "9     7\n",
      "10    5\n",
      "Name: label, dtype: int64\n",
      "[0 1 3 8 7 9 1 0 7 7 5]\n"
     ]
    }
   ],
   "source": [
    "knn_model= KNeighborsClassifier(n_neighbors=11,p=2,metric='euclidean')\n",
    "knn_model.fit(x_train,y_train)\n",
    "knn_pred= knn_model.predict(x_test)\n",
    "print(y_test[0:11])\n",
    "print(knn_model.predict(x_test[0:11]))"
   ]
  },
  {
   "cell_type": "code",
   "execution_count": 88,
   "metadata": {},
   "outputs": [
    {
     "name": "stdout",
     "output_type": "stream",
     "text": [
      "1.697142857142857\n",
      "0.9214285714285714\n"
     ]
    }
   ],
   "source": [
    "print(metrics.mean_squared_error(y_test,knn_pred))\n",
    "print(metrics.accuracy_score(y_test,knn_pred))"
   ]
  },
  {
   "cell_type": "code",
   "execution_count": 73,
   "metadata": {},
   "outputs": [
    {
     "name": "stdout",
     "output_type": "stream",
     "text": [
      "[[62  0  0  0  0  0  2  1  0  0]\n",
      " [ 0 76  0  0  0  0  0  1  0  0]\n",
      " [ 0  3 59  1  0  0  0  2  1  0]\n",
      " [ 0  0  1 79  0  1  0  0  0  0]\n",
      " [ 0  0  0  0 56  0  0  0  0  3]\n",
      " [ 0  3  0  2  0 51  0  0  1  0]\n",
      " [ 1  2  0  0  0  1 59  0  0  0]\n",
      " [ 0  2  0  0  1  1  0 75  0  0]\n",
      " [ 0  8  0  2  0  3  1  1 63  1]\n",
      " [ 0  0  0  1  4  0  0  3  1 65]]\n"
     ]
    }
   ],
   "source": [
    "cm=metrics.confusion_matrix(y_test,knn_pred)\n",
    "print(cm)"
   ]
  },
  {
   "cell_type": "code",
   "execution_count": 152,
   "metadata": {},
   "outputs": [],
   "source": [
    "from sklearn.metrics import classification_report, confusion_matrix  \n",
    "kernels = ['Polynomial', 'RBF', 'Sigmoid','Linear']#A function which returns the corresponding SVC model"
   ]
  },
  {
   "cell_type": "code",
   "execution_count": 153,
   "metadata": {},
   "outputs": [],
   "source": [
    "'''\n",
    "def getClassifier(ktype):\n",
    "    if ktype == 0:\n",
    "        # Polynomial kernal\n",
    "        return svm.SVC(kernel='poly', degree=8, gamma=\"auto\")\n",
    "    elif ktype == 1:\n",
    "        # Radial Basis Function kernal\n",
    "        return svm.SVC(kernel='rbf', gamma=\"auto\")\n",
    "    elif ktype == 2:\n",
    "        # Sigmoid kernal\n",
    "        return svm.SVC(kernel='sigmoid', gamma=\"auto\")\n",
    "    elif ktype == 3:\n",
    "        # Linear kernal\n",
    "        return svm.SVC(kernel='linear', gamma=\"auto\")'''"
   ]
  },
  {
   "cell_type": "code",
   "execution_count": 154,
   "metadata": {},
   "outputs": [
    {
     "name": "stdout",
     "output_type": "stream",
     "text": [
      "Evaluation: Polynomial kernel\n",
      "              precision    recall  f1-score   support\n",
      "\n",
      "           0       0.85      0.85      0.85        65\n",
      "           1       0.48      0.99      0.65        77\n",
      "           2       0.90      0.68      0.78        66\n",
      "           3       0.92      0.72      0.81        81\n",
      "           4       0.90      0.76      0.83        59\n",
      "           5       0.88      0.75      0.81        57\n",
      "           6       0.94      0.78      0.85        63\n",
      "           7       0.89      0.92      0.91        79\n",
      "           8       0.84      0.77      0.80        79\n",
      "           9       0.91      0.72      0.80        74\n",
      "\n",
      "    accuracy                           0.80       700\n",
      "   macro avg       0.85      0.79      0.81       700\n",
      "weighted avg       0.85      0.80      0.81       700\n",
      "\n",
      "Evaluation: RBF kernel\n",
      "              precision    recall  f1-score   support\n",
      "\n",
      "           0       0.00      0.00      0.00        65\n",
      "           1       0.11      1.00      0.20        77\n",
      "           2       0.00      0.00      0.00        66\n",
      "           3       0.00      0.00      0.00        81\n",
      "           4       0.00      0.00      0.00        59\n",
      "           5       0.00      0.00      0.00        57\n",
      "           6       0.00      0.00      0.00        63\n",
      "           7       0.00      0.00      0.00        79\n",
      "           8       0.00      0.00      0.00        79\n",
      "           9       0.00      0.00      0.00        74\n",
      "\n",
      "    accuracy                           0.11       700\n",
      "   macro avg       0.01      0.10      0.02       700\n",
      "weighted avg       0.01      0.11      0.02       700\n",
      "\n"
     ]
    },
    {
     "name": "stderr",
     "output_type": "stream",
     "text": [
      "/home/sharad2000/.local/lib/python3.8/site-packages/sklearn/metrics/_classification.py:1245: UndefinedMetricWarning: Precision and F-score are ill-defined and being set to 0.0 in labels with no predicted samples. Use `zero_division` parameter to control this behavior.\n",
      "  _warn_prf(average, modifier, msg_start, len(result))\n",
      "/home/sharad2000/.local/lib/python3.8/site-packages/sklearn/metrics/_classification.py:1245: UndefinedMetricWarning: Precision and F-score are ill-defined and being set to 0.0 in labels with no predicted samples. Use `zero_division` parameter to control this behavior.\n",
      "  _warn_prf(average, modifier, msg_start, len(result))\n",
      "/home/sharad2000/.local/lib/python3.8/site-packages/sklearn/metrics/_classification.py:1245: UndefinedMetricWarning: Precision and F-score are ill-defined and being set to 0.0 in labels with no predicted samples. Use `zero_division` parameter to control this behavior.\n",
      "  _warn_prf(average, modifier, msg_start, len(result))\n"
     ]
    },
    {
     "name": "stdout",
     "output_type": "stream",
     "text": [
      "Evaluation: Sigmoid kernel\n",
      "              precision    recall  f1-score   support\n",
      "\n",
      "           0       0.00      0.00      0.00        65\n",
      "           1       0.11      1.00      0.20        77\n",
      "           2       0.00      0.00      0.00        66\n",
      "           3       0.00      0.00      0.00        81\n",
      "           4       0.00      0.00      0.00        59\n",
      "           5       0.00      0.00      0.00        57\n",
      "           6       0.00      0.00      0.00        63\n",
      "           7       0.00      0.00      0.00        79\n",
      "           8       0.00      0.00      0.00        79\n",
      "           9       0.00      0.00      0.00        74\n",
      "\n",
      "    accuracy                           0.11       700\n",
      "   macro avg       0.01      0.10      0.02       700\n",
      "weighted avg       0.01      0.11      0.02       700\n",
      "\n"
     ]
    },
    {
     "name": "stderr",
     "output_type": "stream",
     "text": [
      "/home/sharad2000/.local/lib/python3.8/site-packages/sklearn/metrics/_classification.py:1245: UndefinedMetricWarning: Precision and F-score are ill-defined and being set to 0.0 in labels with no predicted samples. Use `zero_division` parameter to control this behavior.\n",
      "  _warn_prf(average, modifier, msg_start, len(result))\n",
      "/home/sharad2000/.local/lib/python3.8/site-packages/sklearn/metrics/_classification.py:1245: UndefinedMetricWarning: Precision and F-score are ill-defined and being set to 0.0 in labels with no predicted samples. Use `zero_division` parameter to control this behavior.\n",
      "  _warn_prf(average, modifier, msg_start, len(result))\n",
      "/home/sharad2000/.local/lib/python3.8/site-packages/sklearn/metrics/_classification.py:1245: UndefinedMetricWarning: Precision and F-score are ill-defined and being set to 0.0 in labels with no predicted samples. Use `zero_division` parameter to control this behavior.\n",
      "  _warn_prf(average, modifier, msg_start, len(result))\n"
     ]
    },
    {
     "name": "stdout",
     "output_type": "stream",
     "text": [
      "Evaluation: Linear kernel\n",
      "              precision    recall  f1-score   support\n",
      "\n",
      "           0       0.98      0.94      0.96        65\n",
      "           1       0.93      0.99      0.96        77\n",
      "           2       0.83      0.95      0.89        66\n",
      "           3       0.95      0.94      0.94        81\n",
      "           4       0.92      0.92      0.92        59\n",
      "           5       0.84      0.89      0.86        57\n",
      "           6       0.94      0.94      0.94        63\n",
      "           7       0.92      0.99      0.95        79\n",
      "           8       0.97      0.81      0.88        79\n",
      "           9       0.94      0.84      0.89        74\n",
      "\n",
      "    accuracy                           0.92       700\n",
      "   macro avg       0.92      0.92      0.92       700\n",
      "weighted avg       0.92      0.92      0.92       700\n",
      "\n"
     ]
    }
   ],
   "source": [
    "'''for i in range(4):\n",
    "    svclassifier =getClassifier(i) \n",
    "    svclassifier.fit(x_train, y_train)# Make prediction\n",
    "    y_pred = svclassifier.predict(x_test)# Evaluate our model\n",
    "    print(\"Evaluation:\", kernels[i], \"kernel\")\n",
    "    print(classification_report(y_test,y_pred))'''"
   ]
  },
  {
   "cell_type": "code",
   "execution_count": null,
   "metadata": {},
   "outputs": [],
   "source": []
  },
  {
   "cell_type": "code",
   "execution_count": null,
   "metadata": {},
   "outputs": [],
   "source": []
  }
 ],
 "metadata": {
  "kernelspec": {
   "display_name": "Python 3",
   "language": "python",
   "name": "python3"
  },
  "language_info": {
   "codemirror_mode": {
    "name": "ipython",
    "version": 3
   },
   "file_extension": ".py",
   "mimetype": "text/x-python",
   "name": "python",
   "nbconvert_exporter": "python",
   "pygments_lexer": "ipython3",
   "version": "3.8.10"
  }
 },
 "nbformat": 4,
 "nbformat_minor": 4
}
